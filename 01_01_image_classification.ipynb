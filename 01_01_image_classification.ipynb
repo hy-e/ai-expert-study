{
 "cells": [
  {
   "cell_type": "markdown",
   "metadata": {},
   "source": [
    "#### Image Classification\n",
    "- Challenges\n",
    "    - Viewpoint variation : 시점 변화\n",
    "    - Scale Variation : 크기 변화\n",
    "    - Deformation : 변형\n",
    "    - Occlusion : 가림\n",
    "    - Illumination conditions : 조명 조건\n",
    "    - Background clutter : 배경 혼란\n",
    "    - Intra-class variation : 클래스 내  다양성 ‘의자(chair)’처럼 하나의 클래스 안에도 다양한 형태와 외형을 가진 객체들이 존재할 수 있습니다"
   ]
  },
  {
   "cell_type": "markdown",
   "metadata": {},
   "source": [
    "#### Nearest Neighbor Classifier\n",
    "- Simply use L1 distance \n",
    "- L1 distance : ∑ |I1ᵢ - I2ᵢ|\n",
    "- L2 distance : `distances = np.sqrt(np.sum(np.square(self.Xtr - X[i,:]), axis=1))`\n",
    "- 사실 실제 코드에서는 굳이 np.sqrt를 할 필요는 없음. 하나 안하나 순서는 동일하기 때문에..\n",
    "- L1 vs L2\n",
    "    - L1 : 전체적으로 픽셀 차이를 고르게 더함. 이상치에 덜 민감\n",
    "    - L2 : 이상치에 매우 민감. 작은 일부 픽셀의 큰 차이가 전체 거리에 큰 영향을 줌\n",
    "    - 정밀한 차이를 잘 반영하고 싶을 때는 L2 distance, 이상치가 많을 때는 L1 distance\n"
   ]
  },
  {
   "cell_type": "code",
   "execution_count": 2,
   "metadata": {},
   "outputs": [],
   "source": [
    "from cs231n.data_utils import load_CIFAR10\n",
    "\n",
    "Xtr, Ytr, Xte, Yte = load_CIFAR10('data/cifar10/')"
   ]
  },
  {
   "cell_type": "code",
   "execution_count": 5,
   "metadata": {},
   "outputs": [
    {
     "data": {
      "text/plain": [
       "((50000, 32, 32, 3), (50000,), (10000, 32, 32, 3), (10000,))"
      ]
     },
     "execution_count": 5,
     "metadata": {},
     "output_type": "execute_result"
    }
   ],
   "source": [
    "Xtr.shape, Ytr.shape, Xte.shape, Yte.shape"
   ]
  },
  {
   "cell_type": "code",
   "execution_count": 6,
   "metadata": {},
   "outputs": [],
   "source": [
    "# 1dimensional로 flatten\n",
    "\n",
    "width = Xtr.shape[1]\n",
    "height = Xtr.shape[2]\n",
    "im_channel = Xtr.shape[3]\n",
    "Xtr_rows = Xtr.reshape(Xtr.shape[0], width*height*im_channel)\n",
    "Xte_rows = Xte.reshape(Xte.shape[0], width*height*im_channel)"
   ]
  },
  {
   "cell_type": "code",
   "execution_count": 17,
   "metadata": {},
   "outputs": [],
   "source": [
    "import numpy as np\n",
    "from collections import Counter\n",
    "\n",
    "class NearestNeighbor():\n",
    "    def __init__(self):\n",
    "        pass\n",
    "\n",
    "    def train(self, X, y):\n",
    "        # NearestNeighbor는 단순히 X, y를 복사\n",
    "        self.Xtr = X\n",
    "        self.ytr = y\n",
    "\n",
    "    def predict(self, X, k=1, method='L1'):\n",
    "        num_test = X.shape[0]\n",
    "        Ypred = np.zeros(X.shape[0], dtype=self.ytr.dtype)\n",
    "\n",
    "        for i in range(num_test):\n",
    "            if method == 'L1':\n",
    "                distances = np.sum(np.abs(self.Xtr - X[i, :]), axis=1)\n",
    "            elif method == 'L2':\n",
    "                distance = np.sqrt(np.sum(np.square(self.Xtr - X[i, :]), axis=1))\n",
    "            \n",
    "            # 단순 NearestNeighbor 모델일때\n",
    "            # min_index = np.argmin(distances)\n",
    "            # Ypred[i] = self.ytr[min_index]\n",
    "\n",
    "            # 밑에는 k-NN\n",
    "            # 가까운 k개 인덱스\n",
    "            nearest_idxs = np.argsort(distances)[:k]\n",
    "            nearest_labels = self.ytr[nearest_idxs]\n",
    "\n",
    "            # 다수결 투표 (가장 많이 나온 라벨 선택)\n",
    "            most_common = Counter(nearest_labels).most_common(1)[0][0]\n",
    "            Ypred[i] = most_common\n",
    "        \n",
    "        return Ypred"
   ]
  },
  {
   "cell_type": "code",
   "execution_count": 22,
   "metadata": {},
   "outputs": [
    {
     "data": {
      "text/plain": [
       "[(np.int64(1), 5)]"
      ]
     },
     "execution_count": 22,
     "metadata": {},
     "output_type": "execute_result"
    }
   ],
   "source": [
    "Counter(np.array([1,2,1,1,1,1,])).most_common(1)"
   ]
  },
  {
   "cell_type": "code",
   "execution_count": 13,
   "metadata": {},
   "outputs": [],
   "source": [
    "nn = NearestNeighbor()\n",
    "nn.train(Xtr_rows, Ytr)"
   ]
  },
  {
   "cell_type": "code",
   "execution_count": 16,
   "metadata": {},
   "outputs": [],
   "source": [
    "y_pred = nn.predict(Xte_rows)\n",
    "accuracy = np.mean(y_pred == Yte)"
   ]
  },
  {
   "cell_type": "markdown",
   "metadata": {},
   "source": [
    "#### k-Nearest Neighbor Classifier\n",
    "- 학습 데이터에서 가장 가까운 이미지 하나만 찾는 것이 아니라 가장 가까운 k개의 이미지를 찾고\n",
    "- 이 k개가 투표해서 테스트 이미지의 라벨을 결정\n",
    "- k=1인 경우 기존의 Nearest Neighbor Classifier와 동일\n",
    "- k가 클수록 결과가 smoothing, 이상치에 강하며 noise에 덜 민감한 분류기를 만들 수 있다.\n",
    "- 코드는 위에!\n",
    "- 이상적인 k는 테스트를 해봐야한다. --> cross-validation"
   ]
  },
  {
   "cell_type": "markdown",
   "metadata": {},
   "source": [
    "#### Validation sets for Hyperparameter tuning\n",
    "- k값을 설정할 때, 여러 값을 시도해보고 가장 잘 되는 걸 고르면?\n",
    "- 단, 하이퍼파라미터 튜닝을 위해서 테스트셋을 사용하는건 안됨\n",
    "    - overfitting\n",
    "    - 실제 서비스 시, 성능이 확 떨어질 가능성이 있다.\n",
    "    - 테스트셋을 학습 데이터처럼 쓴 것이고 성능이 과하게 낙관적으로 나올 수 있다.\n",
    "\n",
    "- 올바른 validation set 사용법\n",
    "    - 학습데이터를 두 개로 나눈다. (train/validation)"
   ]
  },
  {
   "cell_type": "code",
   "execution_count": null,
   "metadata": {},
   "outputs": [],
   "source": [
    "# assume we have Xtr_rows, Ytr, Xte_rows, Yte as before\n",
    "# recall Xtr_rows is 50,000 x 3072 matrix\n",
    "Xval_rows = Xtr_rows[:1000, :] # take first 1000 for validation\n",
    "Yval = Ytr[:1000]\n",
    "Xtr_rows = Xtr_rows[1000:, :] # keep last 49,000 for train\n",
    "Ytr = Ytr[1000:]\n",
    "\n",
    "# find hyperparameters that work best on the validation set\n",
    "validation_accuracies = []\n",
    "for k in [1, 3, 5, 10, 20, 50, 100]:\n",
    "    # use a particular value of k and evaluation on validation data\n",
    "    nn = NearestNeighbor()\n",
    "    nn.train(Xtr_rows, Ytr)\n",
    "    # here we assume a modified NearestNeighbor class that can take a k as input\n",
    "    Yval_predict = nn.predict(Xval_rows, k = k)\n",
    "    acc = np.mean(Yval_predict == Yval)\n",
    "    #   print 'accuracy: %f' % (acc,)\n",
    "\n",
    "    # keep track of what works on the validation set\n",
    "    validation_accuracies.append((k, acc))"
   ]
  },
  {
   "cell_type": "markdown",
   "metadata": {},
   "source": [
    "#### Cross-validation\n",
    "- 학습데이터의 크기가 작을 경우 또는 validation set이 분할 방식에 따라 편향되거나 하는 경우가 있을 수 있다. \n",
    "- 여러 가지 validation set을 번갈아 사용하고, 그 결과를 평균 내는 방식\n",
    "- 5-fold cross validation\n",
    "    - 학습 데이터를 5개의 동일한 크기로 나누고\n",
    "    - 그 중 4개는 학습용, 1개는 검증용으로 사용한다.\n",
    "    - 검증용 폴드 위치를 바꿔가며 5번 반복\n",
    "    - 각 반복에서의 성능을 기록하고 최종적으로 평균을 내어 k의 성능을 평가한다.\n",
    "\n",
    "- 장점\n",
    "    - 데이터가 작아도 검증 결과의 신뢰도가 높아진다.\n",
    "    - 특정 데이터 조합에 과적합 되는 것을 방지\n",
    "    - 모델이 일관적으로 잘 작동하는지 확인이 가능하다.\n",
    "- 단점\n",
    "    - computationally expensive\n",
    "    "
   ]
  },
  {
   "cell_type": "markdown",
   "metadata": {},
   "source": []
  },
  {
   "cell_type": "code",
   "execution_count": null,
   "metadata": {},
   "outputs": [],
   "source": []
  }
 ],
 "metadata": {
  "kernelspec": {
   "display_name": "Python 3.9.6 ('.venv': venv)",
   "language": "python",
   "name": "python3"
  },
  "language_info": {
   "codemirror_mode": {
    "name": "ipython",
    "version": 3
   },
   "file_extension": ".py",
   "mimetype": "text/x-python",
   "name": "python",
   "nbconvert_exporter": "python",
   "pygments_lexer": "ipython3",
   "version": "3.9.6"
  },
  "orig_nbformat": 4,
  "vscode": {
   "interpreter": {
    "hash": "70f5cc200792fed37ce5f9f4d9832836513a5268ba95e13c29099d8f59523198"
   }
  }
 },
 "nbformat": 4,
 "nbformat_minor": 2
}
